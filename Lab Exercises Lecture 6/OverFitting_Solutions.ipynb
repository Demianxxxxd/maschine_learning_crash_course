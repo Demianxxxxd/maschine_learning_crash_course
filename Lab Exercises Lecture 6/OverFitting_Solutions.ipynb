{
 "cells": [
  {
   "cell_type": "markdown",
   "metadata": {},
   "source": [
    "# Overfitting and Regularization"
   ]
  },
  {
   "cell_type": "markdown",
   "metadata": {},
   "source": [
    "The fundamental issue in machine learning is the tension between optimization and generalization. \"Optimization\" refers to the process of adjusting a model to get the best performance possible on the training data, while \"generalization\" refers to how well the trained model would perform on data it has never seen before. The goal of the game is to get good generalization, of course, but you do not control generalization; you can only adjust the model based on its training data.\n",
    "\n",
    "At the beginning of training, optimization and generalization are correlated: the lower your loss on training data, the lower your loss on test data. While this is happening, your model is said to be under-fit: there is still progress to be made; the network hasn't yet modeled all relevant patterns in the training data. But after a certain number of iterations on the training data, generalization stops improving, validation metrics stall then start degrading: the model is then starting to over-fit, i.e. is it starting to learn patterns that are specific to the training data but that are misleading or irrelevant when it comes to new data.\n",
    "\n",
    "To prevent a model from learning misleading or irrelevant patterns found in the training data, the best solution is of course to get more training data. A model trained on more data will naturally generalize better. When that is no longer possible, the next best solution is to modulate the quantity of information that your model is allowed to store, or to add constraints on what information it is allowed to store. If a network can only afford to memorize a small number of patterns, the optimization process will force it to focus on the most prominent patterns, which have a better chance of generalizing well.\n",
    "\n",
    "The processing of fighting overfitting in this way is called regularization. Let's review some of the most common regularization techniques, and let's apply them in practice to improve our movie classification model from the previous chapter.\n",
    "\n",
    "In this Notebook we will be using the IMDB Dataset to explore some of the possible techniques to deal with overfitting."
   ]
  },
  {
   "cell_type": "markdown",
   "metadata": {},
   "source": [
    "As first thing, we import Keras package:"
   ]
  },
  {
   "cell_type": "markdown",
   "metadata": {},
   "source": [
    "**Import Keras and check the version.**"
   ]
  },
  {
   "cell_type": "code",
   "execution_count": 1,
   "metadata": {},
   "outputs": [
    {
     "data": {
      "text/plain": [
       "'2.4.3'"
      ]
     },
     "execution_count": 1,
     "metadata": {},
     "output_type": "execute_result"
    }
   ],
   "source": [
    "import keras\n",
    "keras.__version__"
   ]
  },
  {
   "cell_type": "markdown",
   "metadata": {},
   "source": [
    "## Get the Data"
   ]
  },
  {
   "cell_type": "code",
   "execution_count": 1,
   "metadata": {},
   "outputs": [],
   "source": [
    "from keras.datasets import imdb\n",
    "import numpy as np\n",
    "\n",
    "(train_data, train_labels), (test_data, test_labels) = imdb.load_data(num_words=10000)\n",
    "\n",
    "def vectorize_sequences(sequences, dimension=10000):\n",
    "    # Create an all-zero matrix of shape (len(sequences), dimension)\n",
    "    results = np.zeros((len(sequences), dimension))\n",
    "    for i, sequence in enumerate(sequences):\n",
    "        results[i, sequence] = 1.  # set specific indices of results[i] to 1s\n",
    "    return results\n",
    "\n",
    "# Our vectorized training data\n",
    "x_train = vectorize_sequences(train_data)\n",
    "# Our vectorized test data\n",
    "x_test = vectorize_sequences(test_data)\n",
    "# Our vectorized labels\n",
    "y_train = np.array(train_labels).astype('float32')\n",
    "y_test = np.array(test_labels).astype('float32')"
   ]
  },
  {
   "cell_type": "markdown",
   "metadata": {},
   "source": [
    "## Overfitting\n",
    "### Reducing the Network's size"
   ]
  },
  {
   "cell_type": "markdown",
   "metadata": {},
   "source": [
    "The simplest way to prevent overfitting is to reduce the size of the model, i.e. the number of learnable parameters in the model (which is determined by the number of layers and the number of units per layer). In deep learning, the number of learnable parameters in a model is often referred to as the model's \"capacity\". Intuitively, a model with more parameters will have more \"memorization capacity\" and therefore will be able to easily learn a perfect dictionary-like mapping between training samples and their targets, a mapping without any generalization power. For instance, a model with 500,000 binary parameters could easily be made to learn the class of every digits in the MNIST training set: we would only need 10 binary parameters for each of the 50,000 digits. Such a model would be useless for classifying new digit samples. Always keep this in mind: deep learning models tend to be good at fitting to the training data, but the real challenge is generalization, not fitting.\n",
    "\n",
    "On the other hand, if the network has limited memorization resources, it will not be able to learn this mapping as easily, and thus, in order to minimize its loss, it will have to resort to learning compressed representations that have predictive power regarding the targets -- precisely the type of representations that we are interested in. At the same time, keep in mind that you should be using models that have enough parameters that they won't be underfitting: your model shouldn't be starved for memorization resources. There is a compromise to be found between \"too much capacity\" and \"not enough capacity\".\n",
    "\n",
    "Unfortunately, there is no magical formula to determine what the right number of layers is, or what the right size for each layer is. You will have to evaluate an array of different architectures (on your validation set, not on your test set, of course) in order to find the right model size for your data. The general workflow to find an appropriate model size is to start with relatively few layers and parameters, and start increasing the size of the layers or adding new layers until you see diminishing returns with regard to the validation loss.\n",
    "\n",
    "Let's try this on our movie review classification network. Our original network was as such:"
   ]
  },
  {
   "cell_type": "markdown",
   "metadata": {},
   "source": [
    "**Create the following network (call it `original_model`).**"
   ]
  },
  {
   "cell_type": "markdown",
   "metadata": {},
   "source": [
    "- Dense layer with 16 hidden units and an activation function;\n",
    "- Dense layer with 16 hidden units and an activation function;\n",
    "- Dense layer output with an activation function;"
   ]
  },
  {
   "cell_type": "code",
   "execution_count": 2,
   "metadata": {},
   "outputs": [
    {
     "name": "stderr",
     "output_type": "stream",
     "text": [
      "2021-12-16 22:11:03.424375: I tensorflow/core/platform/cpu_feature_guard.cc:151] This TensorFlow binary is optimized with oneAPI Deep Neural Network Library (oneDNN) to use the following CPU instructions in performance-critical operations:  AVX2 FMA\n",
      "To enable them in other operations, rebuild TensorFlow with the appropriate compiler flags.\n"
     ]
    }
   ],
   "source": [
    "from keras import models\n",
    "from keras import layers\n",
    "\n",
    "original_model = models.Sequential()\n",
    "original_model.add(layers.Dense(16, activation='relu', input_shape=(10000,)))\n",
    "original_model.add(layers.Dense(16, activation='relu'))\n",
    "original_model.add(layers.Dense(1, activation='sigmoid'))"
   ]
  },
  {
   "cell_type": "markdown",
   "metadata": {},
   "source": [
    "**Compile the model.**"
   ]
  },
  {
   "cell_type": "code",
   "execution_count": 3,
   "metadata": {},
   "outputs": [],
   "source": [
    "original_model.compile(optimizer='rmsprop',\n",
    "                       loss='binary_crossentropy',\n",
    "                       metrics=['acc'])"
   ]
  },
  {
   "cell_type": "markdown",
   "metadata": {},
   "source": [
    "**Now replace it with a smaller network (call it `smaller_model`), with less hidden units instead of 16 and compile it. Be sure to use the same optimizer and loss function of the `original_model`.**"
   ]
  },
  {
   "cell_type": "code",
   "execution_count": 4,
   "metadata": {},
   "outputs": [],
   "source": [
    "smaller_model = models.Sequential()\n",
    "smaller_model.add(layers.Dense(4, activation='relu', input_shape=(10000,)))\n",
    "smaller_model.add(layers.Dense(4, activation='relu'))\n",
    "smaller_model.add(layers.Dense(1, activation='sigmoid'))\n",
    "\n",
    "smaller_model.compile(optimizer='rmsprop',\n",
    "                      loss='binary_crossentropy',\n",
    "                      metrics=['acc'])"
   ]
  },
  {
   "cell_type": "markdown",
   "metadata": {},
   "source": [
    "**Fit the original model with 20 epochs and batch size 512. Use x_test and y_test for validation data.**\n",
    "\n",
    "*Note*: \n",
    "\n",
    "Here we use test data as validation data, as our goal is just to compare different techniques against overfitting. \n",
    "However, in practice we use validation data (~30% of the data from the training set).\n",
    "Test data are used for the final evaluation of the model's performance."
   ]
  },
  {
   "cell_type": "code",
   "execution_count": 5,
   "metadata": {},
   "outputs": [
    {
     "name": "stdout",
     "output_type": "stream",
     "text": [
      "Epoch 1/20\n",
      "WARNING:tensorflow:AutoGraph could not transform <function Model.make_train_function.<locals>.train_function at 0x148d73830> and will run it as-is.\n",
      "Please report this to the TensorFlow team. When filing the bug, set the verbosity to 10 (on Linux, `export AUTOGRAPH_VERBOSITY=10`) and attach the full output.\n",
      "Cause: 'arguments' object has no attribute 'posonlyargs'\n",
      "To silence this warning, decorate the function with @tf.autograph.experimental.do_not_convert\n",
      "WARNING: AutoGraph could not transform <function Model.make_train_function.<locals>.train_function at 0x148d73830> and will run it as-is.\n",
      "Please report this to the TensorFlow team. When filing the bug, set the verbosity to 10 (on Linux, `export AUTOGRAPH_VERBOSITY=10`) and attach the full output.\n",
      "Cause: 'arguments' object has no attribute 'posonlyargs'\n",
      "To silence this warning, decorate the function with @tf.autograph.experimental.do_not_convert\n",
      "49/49 [==============================] - ETA: 0s - loss: 0.4721 - acc: 0.8126WARNING:tensorflow:AutoGraph could not transform <function Model.make_test_function.<locals>.test_function at 0x147907d40> and will run it as-is.\n",
      "Please report this to the TensorFlow team. When filing the bug, set the verbosity to 10 (on Linux, `export AUTOGRAPH_VERBOSITY=10`) and attach the full output.\n",
      "Cause: 'arguments' object has no attribute 'posonlyargs'\n",
      "To silence this warning, decorate the function with @tf.autograph.experimental.do_not_convert\n",
      "WARNING: AutoGraph could not transform <function Model.make_test_function.<locals>.test_function at 0x147907d40> and will run it as-is.\n",
      "Please report this to the TensorFlow team. When filing the bug, set the verbosity to 10 (on Linux, `export AUTOGRAPH_VERBOSITY=10`) and attach the full output.\n",
      "Cause: 'arguments' object has no attribute 'posonlyargs'\n",
      "To silence this warning, decorate the function with @tf.autograph.experimental.do_not_convert\n",
      "49/49 [==============================] - 7s 129ms/step - loss: 0.4721 - acc: 0.8126 - val_loss: 0.3506 - val_acc: 0.8764\n",
      "Epoch 2/20\n",
      "49/49 [==============================] - 2s 33ms/step - loss: 0.2667 - acc: 0.9050 - val_loss: 0.2836 - val_acc: 0.8913\n",
      "Epoch 3/20\n",
      "49/49 [==============================] - 1s 28ms/step - loss: 0.2003 - acc: 0.9303 - val_loss: 0.2797 - val_acc: 0.8888\n",
      "Epoch 4/20\n",
      "49/49 [==============================] - 1s 29ms/step - loss: 0.1697 - acc: 0.9390 - val_loss: 0.2922 - val_acc: 0.8838\n",
      "Epoch 5/20\n",
      "49/49 [==============================] - 1s 27ms/step - loss: 0.1439 - acc: 0.9504 - val_loss: 0.3115 - val_acc: 0.8794\n",
      "Epoch 6/20\n",
      "49/49 [==============================] - 1s 27ms/step - loss: 0.1272 - acc: 0.9556 - val_loss: 0.3343 - val_acc: 0.8763\n",
      "Epoch 7/20\n",
      "49/49 [==============================] - 1s 28ms/step - loss: 0.1070 - acc: 0.9642 - val_loss: 0.3985 - val_acc: 0.8635\n",
      "Epoch 8/20\n",
      "49/49 [==============================] - 2s 31ms/step - loss: 0.0954 - acc: 0.9683 - val_loss: 0.3905 - val_acc: 0.8674\n",
      "Epoch 9/20\n",
      "49/49 [==============================] - 1s 27ms/step - loss: 0.0846 - acc: 0.9719 - val_loss: 0.4065 - val_acc: 0.8687\n",
      "Epoch 10/20\n",
      "49/49 [==============================] - 1s 28ms/step - loss: 0.0715 - acc: 0.9765 - val_loss: 0.4344 - val_acc: 0.8661\n",
      "Epoch 11/20\n",
      "49/49 [==============================] - 1s 28ms/step - loss: 0.0619 - acc: 0.9804 - val_loss: 0.4677 - val_acc: 0.8630\n",
      "Epoch 12/20\n",
      "49/49 [==============================] - 1s 27ms/step - loss: 0.0539 - acc: 0.9834 - val_loss: 0.5044 - val_acc: 0.8601\n",
      "Epoch 13/20\n",
      "49/49 [==============================] - 2s 38ms/step - loss: 0.0458 - acc: 0.9864 - val_loss: 0.5475 - val_acc: 0.8573\n",
      "Epoch 14/20\n",
      "49/49 [==============================] - 1s 28ms/step - loss: 0.0397 - acc: 0.9887 - val_loss: 0.5850 - val_acc: 0.8551\n",
      "Epoch 15/20\n",
      "49/49 [==============================] - 1s 26ms/step - loss: 0.0325 - acc: 0.9911 - val_loss: 0.6199 - val_acc: 0.8539\n",
      "Epoch 16/20\n",
      "49/49 [==============================] - 1s 28ms/step - loss: 0.0256 - acc: 0.9943 - val_loss: 0.6671 - val_acc: 0.8522\n",
      "Epoch 17/20\n",
      "49/49 [==============================] - 1s 28ms/step - loss: 0.0213 - acc: 0.9950 - val_loss: 0.6874 - val_acc: 0.8534\n",
      "Epoch 18/20\n",
      "49/49 [==============================] - 1s 30ms/step - loss: 0.0202 - acc: 0.9950 - val_loss: 0.7364 - val_acc: 0.8527\n",
      "Epoch 19/20\n",
      "49/49 [==============================] - 1s 26ms/step - loss: 0.0164 - acc: 0.9964 - val_loss: 0.7686 - val_acc: 0.8517\n",
      "Epoch 20/20\n",
      "49/49 [==============================] - 1s 26ms/step - loss: 0.0143 - acc: 0.9963 - val_loss: 0.8106 - val_acc: 0.8500\n"
     ]
    }
   ],
   "source": [
    "original_hist = original_model.fit(x_train, y_train,\n",
    "                                   epochs=20,\n",
    "                                   batch_size=512,\n",
    "                                   validation_data=(x_test,y_test))"
   ]
  },
  {
   "cell_type": "markdown",
   "metadata": {},
   "source": [
    "**Fit the smaller model with 20 epochs and batch size 512. Use x_test and y_test for validation data.**"
   ]
  },
  {
   "cell_type": "code",
   "execution_count": 7,
   "metadata": {},
   "outputs": [
    {
     "name": "stdout",
     "output_type": "stream",
     "text": [
      "Epoch 1/20\n",
      "WARNING:tensorflow:AutoGraph could not transform <function Model.make_train_function.<locals>.train_function at 0x14c07a560> and will run it as-is.\n",
      "Please report this to the TensorFlow team. When filing the bug, set the verbosity to 10 (on Linux, `export AUTOGRAPH_VERBOSITY=10`) and attach the full output.\n",
      "Cause: 'arguments' object has no attribute 'posonlyargs'\n",
      "To silence this warning, decorate the function with @tf.autograph.experimental.do_not_convert\n",
      "WARNING: AutoGraph could not transform <function Model.make_train_function.<locals>.train_function at 0x14c07a560> and will run it as-is.\n",
      "Please report this to the TensorFlow team. When filing the bug, set the verbosity to 10 (on Linux, `export AUTOGRAPH_VERBOSITY=10`) and attach the full output.\n",
      "Cause: 'arguments' object has no attribute 'posonlyargs'\n",
      "To silence this warning, decorate the function with @tf.autograph.experimental.do_not_convert\n",
      "46/49 [===========================>..] - ETA: 0s - loss: 0.6587 - acc: 0.6626WARNING:tensorflow:AutoGraph could not transform <function Model.make_test_function.<locals>.test_function at 0x149f44560> and will run it as-is.\n",
      "Please report this to the TensorFlow team. When filing the bug, set the verbosity to 10 (on Linux, `export AUTOGRAPH_VERBOSITY=10`) and attach the full output.\n",
      "Cause: 'arguments' object has no attribute 'posonlyargs'\n",
      "To silence this warning, decorate the function with @tf.autograph.experimental.do_not_convert\n",
      "WARNING: AutoGraph could not transform <function Model.make_test_function.<locals>.test_function at 0x149f44560> and will run it as-is.\n",
      "Please report this to the TensorFlow team. When filing the bug, set the verbosity to 10 (on Linux, `export AUTOGRAPH_VERBOSITY=10`) and attach the full output.\n",
      "Cause: 'arguments' object has no attribute 'posonlyargs'\n",
      "To silence this warning, decorate the function with @tf.autograph.experimental.do_not_convert\n",
      "49/49 [==============================] - 7s 108ms/step - loss: 0.6567 - acc: 0.6692 - val_loss: 0.6183 - val_acc: 0.8182\n",
      "Epoch 2/20\n",
      "49/49 [==============================] - 1s 25ms/step - loss: 0.5472 - acc: 0.8567 - val_loss: 0.4936 - val_acc: 0.8701\n",
      "Epoch 3/20\n",
      "49/49 [==============================] - 1s 23ms/step - loss: 0.4080 - acc: 0.8990 - val_loss: 0.3895 - val_acc: 0.8767\n",
      "Epoch 4/20\n",
      "49/49 [==============================] - 1s 23ms/step - loss: 0.3104 - acc: 0.9152 - val_loss: 0.3274 - val_acc: 0.8884\n",
      "Epoch 5/20\n",
      "49/49 [==============================] - 1s 24ms/step - loss: 0.2522 - acc: 0.9244 - val_loss: 0.2980 - val_acc: 0.8900\n",
      "Epoch 6/20\n",
      "49/49 [==============================] - 1s 24ms/step - loss: 0.2140 - acc: 0.9334 - val_loss: 0.2840 - val_acc: 0.8904\n",
      "Epoch 7/20\n",
      "49/49 [==============================] - 1s 23ms/step - loss: 0.1892 - acc: 0.9387 - val_loss: 0.2833 - val_acc: 0.8864\n",
      "Epoch 8/20\n",
      "49/49 [==============================] - 1s 23ms/step - loss: 0.1704 - acc: 0.9452 - val_loss: 0.2857 - val_acc: 0.8853\n",
      "Epoch 9/20\n",
      "49/49 [==============================] - 1s 29ms/step - loss: 0.1558 - acc: 0.9501 - val_loss: 0.2879 - val_acc: 0.8861\n",
      "Epoch 10/20\n",
      "49/49 [==============================] - 2s 31ms/step - loss: 0.1430 - acc: 0.9536 - val_loss: 0.2963 - val_acc: 0.8839\n",
      "Epoch 11/20\n",
      "49/49 [==============================] - 1s 29ms/step - loss: 0.1324 - acc: 0.9571 - val_loss: 0.3102 - val_acc: 0.8795\n",
      "Epoch 12/20\n",
      "49/49 [==============================] - 2s 33ms/step - loss: 0.1226 - acc: 0.9605 - val_loss: 0.3155 - val_acc: 0.8801\n",
      "Epoch 13/20\n",
      "49/49 [==============================] - 2s 32ms/step - loss: 0.1147 - acc: 0.9643 - val_loss: 0.3269 - val_acc: 0.8782\n",
      "Epoch 14/20\n",
      "49/49 [==============================] - 1s 26ms/step - loss: 0.1070 - acc: 0.9669 - val_loss: 0.3407 - val_acc: 0.8757\n",
      "Epoch 15/20\n",
      "49/49 [==============================] - 1s 27ms/step - loss: 0.1004 - acc: 0.9686 - val_loss: 0.3521 - val_acc: 0.8743\n",
      "Epoch 16/20\n",
      "49/49 [==============================] - 1s 24ms/step - loss: 0.0938 - acc: 0.9718 - val_loss: 0.3673 - val_acc: 0.8725\n",
      "Epoch 17/20\n",
      "49/49 [==============================] - 2s 33ms/step - loss: 0.0879 - acc: 0.9734 - val_loss: 0.3846 - val_acc: 0.8701\n",
      "Epoch 18/20\n",
      "49/49 [==============================] - 1s 25ms/step - loss: 0.0826 - acc: 0.9754 - val_loss: 0.4015 - val_acc: 0.8691\n",
      "Epoch 19/20\n",
      "49/49 [==============================] - 1s 28ms/step - loss: 0.0769 - acc: 0.9782 - val_loss: 0.4161 - val_acc: 0.8668\n",
      "Epoch 20/20\n",
      "49/49 [==============================] - 1s 23ms/step - loss: 0.0725 - acc: 0.9795 - val_loss: 0.4313 - val_acc: 0.8662\n"
     ]
    }
   ],
   "source": [
    "smaller_model_hist = smaller_model.fit(x_train, y_train,\n",
    "                                       epochs=20,\n",
    "                                       batch_size=512,\n",
    "                                       validation_data=(x_test,y_test))"
   ]
  },
  {
   "cell_type": "markdown",
   "metadata": {},
   "source": [
    "**Compare the smaller model with the original one. Fill in the #TO DOs.**"
   ]
  },
  {
   "cell_type": "code",
   "execution_count": 8,
   "metadata": {},
   "outputs": [],
   "source": [
    "epochs = range(1, 21)\n",
    "original_val_loss = original_hist.history['val_loss'] # TO DO: take from the history dictionary of the original model the validation loss\n",
    "smaller_model_val_loss = smaller_model_hist.history['val_loss'] # TO DO: take from the history dictionary of the smaller model the validation loss"
   ]
  },
  {
   "cell_type": "code",
   "execution_count": 9,
   "metadata": {},
   "outputs": [
    {
     "data": {
      "image/png": "[encoded data removed]",
      "text/plain": [
       "<Figure size 432x288 with 1 Axes>"
      ]
     },
     "metadata": {
      "needs_background": "light"
     },
     "output_type": "display_data"
    }
   ],
   "source": [
    "import matplotlib.pyplot as plt\n",
    "\n",
    "# b+ is for \"blue cross\"\n",
    "plt.plot(epochs, original_val_loss, 'b+', label='Original model') # TO DO: use the original model validation loss\n",
    "# \"bo\" is for \"blue dot\"\n",
    "plt.plot(epochs, smaller_model_val_loss, 'bo', label='Smaller model') # TO DO: use the smaller model validation loss\n",
    "plt.xlabel('Epochs')\n",
    "plt.ylabel('Validation loss')\n",
    "plt.legend()\n",
    "\n",
    "plt.show()"
   ]
  },
  {
   "cell_type": "markdown",
   "metadata": {},
   "source": [
    "Here's a comparison of the validation losses of the original network and the smaller network. The dots are the validation loss values of the smaller network, and the crosses are the initial network."
   ]
  },
  {
   "cell_type": "markdown",
   "metadata": {},
   "source": [
    "**Considerations: what can you conclude from these results? Which of the two network starts to overfitting later? How are their performances?**"
   ]
  },
  {
   "cell_type": "markdown",
   "metadata": {},
   "source": [
    "As you can see, the smaller network starts overfitting later than the reference one (after 6 epochs rather than 4) and its performance degrades much more slowly once it starts overfitting."
   ]
  },
  {
   "cell_type": "markdown",
   "metadata": {},
   "source": [
    "Now, let's add to this benchmark a network that has much more capacity (far more than the problem would warrant)."
   ]
  },
  {
   "cell_type": "markdown",
   "metadata": {},
   "source": [
    "**Create a bigger network with moe than 16 hidden units (call it `bigger_model`) and compile it.**"
   ]
  },
  {
   "cell_type": "code",
   "execution_count": 10,
   "metadata": {},
   "outputs": [],
   "source": [
    "bigger_model = models.Sequential()\n",
    "bigger_model.add(layers.Dense(512, activation='relu', input_shape=(10000,)))\n",
    "bigger_model.add(layers.Dense(512, activation='relu'))\n",
    "bigger_model.add(layers.Dense(1, activation='sigmoid'))\n",
    "\n",
    "bigger_model.compile(optimizer='rmsprop',\n",
    "                     loss='binary_crossentropy',\n",
    "                     metrics=['acc'])"
   ]
  },
  {
   "cell_type": "markdown",
   "metadata": {},
   "source": [
    "**Fit the model with 20 epochs and batch of size 512.**"
   ]
  },
  {
   "cell_type": "code",
   "execution_count": 11,
   "metadata": {},
   "outputs": [
    {
     "name": "stdout",
     "output_type": "stream",
     "text": [
      "Epoch 1/20\n",
      "WARNING:tensorflow:AutoGraph could not transform <function Model.make_train_function.<locals>.train_function at 0x148774680> and will run it as-is.\n",
      "Please report this to the TensorFlow team. When filing the bug, set the verbosity to 10 (on Linux, `export AUTOGRAPH_VERBOSITY=10`) and attach the full output.\n",
      "Cause: 'arguments' object has no attribute 'posonlyargs'\n",
      "To silence this warning, decorate the function with @tf.autograph.experimental.do_not_convert\n",
      "WARNING: AutoGraph could not transform <function Model.make_train_function.<locals>.train_function at 0x148774680> and will run it as-is.\n",
      "Please report this to the TensorFlow team. When filing the bug, set the verbosity to 10 (on Linux, `export AUTOGRAPH_VERBOSITY=10`) and attach the full output.\n",
      "Cause: 'arguments' object has no attribute 'posonlyargs'\n",
      "To silence this warning, decorate the function with @tf.autograph.experimental.do_not_convert\n",
      "49/49 [==============================] - ETA: 0s - loss: 0.4683 - acc: 0.7925WARNING:tensorflow:AutoGraph could not transform <function Model.make_test_function.<locals>.test_function at 0x14bf44680> and will run it as-is.\n",
      "Please report this to the TensorFlow team. When filing the bug, set the verbosity to 10 (on Linux, `export AUTOGRAPH_VERBOSITY=10`) and attach the full output.\n",
      "Cause: 'arguments' object has no attribute 'posonlyargs'\n",
      "To silence this warning, decorate the function with @tf.autograph.experimental.do_not_convert\n",
      "WARNING: AutoGraph could not transform <function Model.make_test_function.<locals>.test_function at 0x14bf44680> and will run it as-is.\n",
      "Please report this to the TensorFlow team. When filing the bug, set the verbosity to 10 (on Linux, `export AUTOGRAPH_VERBOSITY=10`) and attach the full output.\n",
      "Cause: 'arguments' object has no attribute 'posonlyargs'\n",
      "To silence this warning, decorate the function with @tf.autograph.experimental.do_not_convert\n",
      "49/49 [==============================] - 17s 336ms/step - loss: 0.4683 - acc: 0.7925 - val_loss: 0.2806 - val_acc: 0.8866\n",
      "Epoch 2/20\n",
      "49/49 [==============================] - 11s 228ms/step - loss: 0.2196 - acc: 0.9162 - val_loss: 0.5847 - val_acc: 0.7445\n",
      "Epoch 3/20\n",
      "49/49 [==============================] - 10s 213ms/step - loss: 0.1358 - acc: 0.9493 - val_loss: 0.2949 - val_acc: 0.8858\n",
      "Epoch 4/20\n",
      "49/49 [==============================] - 10s 200ms/step - loss: 0.0623 - acc: 0.9817 - val_loss: 0.4434 - val_acc: 0.8817\n",
      "Epoch 5/20\n",
      "49/49 [==============================] - 10s 207ms/step - loss: 0.0734 - acc: 0.9861 - val_loss: 0.4670 - val_acc: 0.8815\n",
      "Epoch 6/20\n",
      "49/49 [==============================] - 10s 207ms/step - loss: 0.0758 - acc: 0.9878 - val_loss: 0.4906 - val_acc: 0.8670\n",
      "Epoch 7/20\n",
      "49/49 [==============================] - 10s 202ms/step - loss: 0.0028 - acc: 1.0000 - val_loss: 0.6982 - val_acc: 0.8793\n",
      "Epoch 8/20\n",
      "49/49 [==============================] - 10s 210ms/step - loss: 0.1008 - acc: 0.9895 - val_loss: 0.5590 - val_acc: 0.8794\n",
      "Epoch 9/20\n",
      "49/49 [==============================] - 10s 207ms/step - loss: 6.5181e-04 - acc: 1.0000 - val_loss: 0.7433 - val_acc: 0.8779\n",
      "Epoch 10/20\n",
      "49/49 [==============================] - 10s 200ms/step - loss: 1.0417e-04 - acc: 1.0000 - val_loss: 0.8808 - val_acc: 0.8770\n",
      "Epoch 11/20\n",
      "49/49 [==============================] - 10s 208ms/step - loss: 1.5770e-05 - acc: 1.0000 - val_loss: 1.1061 - val_acc: 0.8746\n",
      "Epoch 12/20\n",
      "49/49 [==============================] - 10s 207ms/step - loss: 1.6852e-06 - acc: 1.0000 - val_loss: 1.2809 - val_acc: 0.8776\n",
      "Epoch 13/20\n",
      "49/49 [==============================] - 10s 201ms/step - loss: 2.3007e-07 - acc: 1.0000 - val_loss: 1.4167 - val_acc: 0.8763\n",
      "Epoch 14/20\n",
      "49/49 [==============================] - 10s 210ms/step - loss: 5.1768e-08 - acc: 1.0000 - val_loss: 1.5131 - val_acc: 0.8762\n",
      "Epoch 15/20\n",
      "49/49 [==============================] - 10s 207ms/step - loss: 2.1847e-08 - acc: 1.0000 - val_loss: 1.5684 - val_acc: 0.8761\n",
      "Epoch 16/20\n",
      "49/49 [==============================] - 10s 209ms/step - loss: 1.3546e-08 - acc: 1.0000 - val_loss: 1.6008 - val_acc: 0.8765\n",
      "Epoch 17/20\n",
      "49/49 [==============================] - 10s 208ms/step - loss: 9.8109e-09 - acc: 1.0000 - val_loss: 1.6251 - val_acc: 0.8760\n",
      "Epoch 18/20\n",
      "49/49 [==============================] - 10s 201ms/step - loss: 7.7247e-09 - acc: 1.0000 - val_loss: 1.6428 - val_acc: 0.8762\n",
      "Epoch 19/20\n",
      "49/49 [==============================] - 10s 208ms/step - loss: 6.3654e-09 - acc: 1.0000 - val_loss: 1.6577 - val_acc: 0.8763\n",
      "Epoch 20/20\n",
      "49/49 [==============================] - 12s 253ms/step - loss: 5.4242e-09 - acc: 1.0000 - val_loss: 1.6726 - val_acc: 0.8759\n"
     ]
    }
   ],
   "source": [
    "bigger_model_hist = bigger_model.fit(x_train, y_train,\n",
    "                                     epochs=20,\n",
    "                                     batch_size=512,\n",
    "                                     validation_data=(x_test,y_test))"
   ]
  },
  {
   "cell_type": "markdown",
   "metadata": {},
   "source": [
    "Let's see how the bigger network fares compared to the reference one. The dots are the validation loss values of the bigger network, and the crosses are the initial network."
   ]
  },
  {
   "cell_type": "markdown",
   "metadata": {},
   "source": [
    "**Compare the bigger model with the original one. Fill in the #TO DOs.**"
   ]
  },
  {
   "cell_type": "code",
   "execution_count": 12,
   "metadata": {},
   "outputs": [
    {
     "data": {
      "image/png": "[encoded data removed]",
      "text/plain": [
       "<Figure size 432x288 with 1 Axes>"
      ]
     },
     "metadata": {
      "needs_background": "light"
     },
     "output_type": "display_data"
    }
   ],
   "source": [
    "bigger_model_val_loss = bigger_model_hist.history['val_loss'] #TO DO: take from the history dictionary of the bigger model the validation loss\n",
    "\n",
    "plt.plot(epochs, original_val_loss, 'b+', label='Original model') #TO DO: use the original model validation loss\n",
    "plt.plot(epochs, bigger_model_val_loss, 'bo', label='Bigger model') #TO DO: use the bigger model validation loss\n",
    "plt.xlabel('Epochs')\n",
    "plt.ylabel('Validation loss')\n",
    "plt.legend()\n",
    "\n",
    "plt.show()"
   ]
  },
  {
   "cell_type": "markdown",
   "metadata": {},
   "source": [
    "**Considerations: what can you conclude from these results? Which of the two network starts to overfitting later? How are their performances?**"
   ]
  },
  {
   "cell_type": "markdown",
   "metadata": {},
   "source": [
    "The bigger network starts overfitting almost right away, after just one epoch, and overfits much more severely. Its validation loss is also more noisy."
   ]
  },
  {
   "cell_type": "markdown",
   "metadata": {},
   "source": [
    "**Compare the training loss of the bigger model and of the original one. Fill in the #TO DOs.**"
   ]
  },
  {
   "cell_type": "code",
   "execution_count": 13,
   "metadata": {},
   "outputs": [
    {
     "data": {
      "image/png": "[encoded data removed]",
      "text/plain": [
       "<Figure size 432x288 with 1 Axes>"
      ]
     },
     "metadata": {
      "needs_background": "light"
     },
     "output_type": "display_data"
    }
   ],
   "source": [
    "original_train_loss = original_hist.history['loss'] #TO DO: take from the history dictionary of the original model the training loss\n",
    "bigger_model_train_loss = bigger_model_hist.history['loss'] #TO DO: take from the history dictionary of the bigger model the training loss\n",
    "\n",
    "plt.plot(epochs, original_train_loss, 'b+', label='Original model') #TO DO: use the original model training loss\n",
    "plt.plot(epochs, bigger_model_train_loss, 'bo', label='Bigger model') #TO DO: use the smaller model training loss\n",
    "plt.xlabel('Epochs')\n",
    "plt.ylabel('Training loss')\n",
    "plt.legend()\n",
    "\n",
    "plt.show()"
   ]
  },
  {
   "cell_type": "markdown",
   "metadata": {},
   "source": [
    "**Considerations: what can you conclude from these results? How are their performances?**"
   ]
  },
  {
   "cell_type": "markdown",
   "metadata": {},
   "source": [
    "As you can see, the bigger network gets its training loss near zero very quickly. The more capacity the network has, the quicker it will be able to model the training data (resulting in a low training loss), but the more susceptible it is to overfitting (resulting in a large difference between the training and validation loss)."
   ]
  },
  {
   "cell_type": "markdown",
   "metadata": {},
   "source": [
    "## Adding weight regularization\n",
    "Given some training data and a network architecture, there are multiple sets of weights values (multiple models) that could explain the data, and simpler models are less likely to overfit than complex ones.\n",
    "\n",
    "A \"simple model\" in this context is a model where the distribution of parameter values has less entropy (or a model with fewer parameters altogether, as we saw in the section above). Thus a common way to mitigate overfitting is to put constraints on the complexity of a network by forcing its weights to only take small values, which makes the distribution of weight values more \"regular\". This is called \"weight regularization\", and it is done by adding to the loss function of the network a cost associated with having large weights. This cost comes in two ways:\n",
    "\n",
    "- L1 regularization, where the cost added is proportional to the absolute value of the weights coefficients (i.e. to what is called the \"L1 norm\" of the weights).\n",
    "- L2 regularization, where the cost added is proportional to the square of the value of the weights coefficients (i.e. to what is called the \"L2 norm\" of the weights). \n",
    "\n",
    "In Keras, weight regularization is added by passing [weight regularizer](https://keras.io/api/layers/regularizers/#layer-weight-regularizers) instances to layers as keyword arguments. Let's add L2 weight regularization to our movie review classification network."
   ]
  },
  {
   "cell_type": "markdown",
   "metadata": {},
   "source": [
    "**Consider your original network and add L2 regularizer and try out some regularization coefficient.**\n",
    "\n",
    "Example: L2 with 0.001 means that every coefficient in the weight matrix of the layer will add 0.001 * weight_coefficient_value to the total loss of the network. Note that because this penalty is only added at training time, the loss for this network will be much higher at training than at test time."
   ]
  },
  {
   "cell_type": "code",
   "execution_count": 14,
   "metadata": {},
   "outputs": [],
   "source": [
    "from keras import regularizers\n",
    "\n",
    "l2_model = models.Sequential()\n",
    "l2_model.add(layers.Dense(16, kernel_regularizer=regularizers.l2(0.001),\n",
    "                          activation='relu', input_shape=(10000,)))\n",
    "l2_model.add(layers.Dense(16, kernel_regularizer=regularizers.l2(0.001),\n",
    "                          activation='relu'))\n",
    "l2_model.add(layers.Dense(1, activation='sigmoid'))"
   ]
  },
  {
   "cell_type": "markdown",
   "metadata": {},
   "source": [
    "**Compile the network.**"
   ]
  },
  {
   "cell_type": "code",
   "execution_count": 15,
   "metadata": {},
   "outputs": [],
   "source": [
    "l2_model.compile(optimizer='rmsprop',\n",
    "                 loss='binary_crossentropy',\n",
    "                 metrics=['acc'])"
   ]
  },
  {
   "cell_type": "markdown",
   "metadata": {},
   "source": [
    "**Fit the model and check which impact your L2 regularizer has.**"
   ]
  },
  {
   "cell_type": "code",
   "execution_count": 16,
   "metadata": {},
   "outputs": [
    {
     "name": "stdout",
     "output_type": "stream",
     "text": [
      "Epoch 1/20\n",
      "WARNING:tensorflow:AutoGraph could not transform <function Model.make_train_function.<locals>.train_function at 0x14cc723b0> and will run it as-is.\n",
      "Please report this to the TensorFlow team. When filing the bug, set the verbosity to 10 (on Linux, `export AUTOGRAPH_VERBOSITY=10`) and attach the full output.\n",
      "Cause: 'arguments' object has no attribute 'posonlyargs'\n",
      "To silence this warning, decorate the function with @tf.autograph.experimental.do_not_convert\n",
      "WARNING: AutoGraph could not transform <function Model.make_train_function.<locals>.train_function at 0x14cc723b0> and will run it as-is.\n",
      "Please report this to the TensorFlow team. When filing the bug, set the verbosity to 10 (on Linux, `export AUTOGRAPH_VERBOSITY=10`) and attach the full output.\n",
      "Cause: 'arguments' object has no attribute 'posonlyargs'\n",
      "To silence this warning, decorate the function with @tf.autograph.experimental.do_not_convert\n",
      "48/49 [============================>.] - ETA: 0s - loss: 0.4918 - acc: 0.8219WARNING:tensorflow:AutoGraph could not transform <function Model.make_test_function.<locals>.test_function at 0x14cf374d0> and will run it as-is.\n",
      "Please report this to the TensorFlow team. When filing the bug, set the verbosity to 10 (on Linux, `export AUTOGRAPH_VERBOSITY=10`) and attach the full output.\n",
      "Cause: 'arguments' object has no attribute 'posonlyargs'\n",
      "To silence this warning, decorate the function with @tf.autograph.experimental.do_not_convert\n",
      "WARNING: AutoGraph could not transform <function Model.make_test_function.<locals>.test_function at 0x14cf374d0> and will run it as-is.\n",
      "Please report this to the TensorFlow team. When filing the bug, set the verbosity to 10 (on Linux, `export AUTOGRAPH_VERBOSITY=10`) and attach the full output.\n",
      "Cause: 'arguments' object has no attribute 'posonlyargs'\n",
      "To silence this warning, decorate the function with @tf.autograph.experimental.do_not_convert\n",
      "49/49 [==============================] - 8s 138ms/step - loss: 0.4892 - acc: 0.8231 - val_loss: 0.3758 - val_acc: 0.8806\n",
      "Epoch 2/20\n",
      "49/49 [==============================] - 2s 34ms/step - loss: 0.3135 - acc: 0.9038 - val_loss: 0.3426 - val_acc: 0.8823\n",
      "Epoch 3/20\n",
      "49/49 [==============================] - 1s 27ms/step - loss: 0.2691 - acc: 0.9185 - val_loss: 0.3285 - val_acc: 0.8889\n",
      "Epoch 4/20\n",
      "49/49 [==============================] - 1s 30ms/step - loss: 0.2481 - acc: 0.9283 - val_loss: 0.3395 - val_acc: 0.8837\n",
      "Epoch 5/20\n",
      "49/49 [==============================] - 2s 31ms/step - loss: 0.2382 - acc: 0.9312 - val_loss: 0.3460 - val_acc: 0.8827\n",
      "Epoch 6/20\n",
      "49/49 [==============================] - 1s 27ms/step - loss: 0.2305 - acc: 0.9357 - val_loss: 0.3527 - val_acc: 0.8805\n",
      "Epoch 7/20\n",
      "49/49 [==============================] - 1s 27ms/step - loss: 0.2222 - acc: 0.9392 - val_loss: 0.3597 - val_acc: 0.8798\n",
      "Epoch 8/20\n",
      "49/49 [==============================] - 1s 28ms/step - loss: 0.2214 - acc: 0.9394 - val_loss: 0.3657 - val_acc: 0.8776\n",
      "Epoch 9/20\n",
      "49/49 [==============================] - 1s 30ms/step - loss: 0.2143 - acc: 0.9426 - val_loss: 0.3718 - val_acc: 0.8771\n",
      "Epoch 10/20\n",
      "49/49 [==============================] - 1s 26ms/step - loss: 0.2099 - acc: 0.9426 - val_loss: 0.4456 - val_acc: 0.8521\n",
      "Epoch 11/20\n",
      "49/49 [==============================] - 1s 26ms/step - loss: 0.2110 - acc: 0.9437 - val_loss: 0.4561 - val_acc: 0.8548\n",
      "Epoch 12/20\n",
      "49/49 [==============================] - 1s 26ms/step - loss: 0.2050 - acc: 0.9469 - val_loss: 0.3938 - val_acc: 0.8725\n",
      "Epoch 13/20\n",
      "49/49 [==============================] - 1s 26ms/step - loss: 0.2031 - acc: 0.9454 - val_loss: 0.4178 - val_acc: 0.8678\n",
      "Epoch 14/20\n",
      "49/49 [==============================] - 2s 31ms/step - loss: 0.2002 - acc: 0.9478 - val_loss: 0.4709 - val_acc: 0.8516\n",
      "Epoch 15/20\n",
      "49/49 [==============================] - 2s 37ms/step - loss: 0.1977 - acc: 0.9483 - val_loss: 0.4135 - val_acc: 0.8694\n",
      "Epoch 16/20\n",
      "49/49 [==============================] - 2s 31ms/step - loss: 0.2035 - acc: 0.9458 - val_loss: 0.4225 - val_acc: 0.8680\n",
      "Epoch 17/20\n",
      "49/49 [==============================] - 2s 31ms/step - loss: 0.1938 - acc: 0.9509 - val_loss: 0.4230 - val_acc: 0.8684\n",
      "Epoch 18/20\n",
      "49/49 [==============================] - 1s 28ms/step - loss: 0.1948 - acc: 0.9490 - val_loss: 0.4337 - val_acc: 0.8622\n",
      "Epoch 19/20\n",
      "49/49 [==============================] - 1s 27ms/step - loss: 0.1933 - acc: 0.9499 - val_loss: 0.4302 - val_acc: 0.8639\n",
      "Epoch 20/20\n",
      "49/49 [==============================] - 2s 33ms/step - loss: 0.1850 - acc: 0.9534 - val_loss: 0.4253 - val_acc: 0.8667\n"
     ]
    }
   ],
   "source": [
    "l2_model_hist = l2_model.fit(x_train, y_train,\n",
    "                             epochs=20,\n",
    "                             batch_size=512,\n",
    "                             validation_data=(x_test,y_test))"
   ]
  },
  {
   "cell_type": "markdown",
   "metadata": {},
   "source": [
    "**Fill in the #TO DOs to see your results in the plot.**"
   ]
  },
  {
   "cell_type": "code",
   "execution_count": 17,
   "metadata": {},
   "outputs": [
    {
     "data": {
      "image/png": "[encoded data removed]",
      "text/plain": [
       "<Figure size 432x288 with 1 Axes>"
      ]
     },
     "metadata": {
      "needs_background": "light"
     },
     "output_type": "display_data"
    }
   ],
   "source": [
    "l2_model_val_loss = l2_model_hist.history['val_loss'] #TO DO: take from the take from the history dictionary of the regularized model the validation loss\n",
    "\n",
    "plt.plot(epochs, original_val_loss, 'b+', label='Original model') #TO DO: use the original model validation loss\n",
    "plt.plot(epochs, l2_model_val_loss, 'bo', label='L2-regularized model') #TO DO: use the regularized model validation loss\n",
    "plt.xlabel('Epochs')\n",
    "plt.ylabel('Validation loss')\n",
    "plt.legend()\n",
    "\n",
    "plt.show()"
   ]
  },
  {
   "cell_type": "markdown",
   "metadata": {},
   "source": [
    "**Considerations: what can you conclude from the plot? What about the overfitting?**"
   ]
  },
  {
   "cell_type": "markdown",
   "metadata": {},
   "source": [
    "As you can see, the model with L2 regularization (dots) has become much more resistant to overfitting than the reference model (crosses), even though both models have the same number of parameters."
   ]
  },
  {
   "cell_type": "markdown",
   "metadata": {},
   "source": [
    "As alternatives to L2 regularization, you could use one of the following Keras weight regularizers:"
   ]
  },
  {
   "cell_type": "markdown",
   "metadata": {},
   "source": [
    "```` \n",
    "from keras import regularizers\n",
    "\n",
    "# L1 regularization\n",
    "regularizers.l1(0.001)\n",
    "\n",
    "# L1 and L2 regularization at the same time\n",
    "regularizers.l1_l2(l1=0.001, l2=0.001)\n",
    "```` "
   ]
  },
  {
   "cell_type": "markdown",
   "metadata": {},
   "source": [
    "## Adding dropout\n",
    "Dropout is one of the most effective and most commonly used regularization techniques for neural networks. Dropout, applied to a layer, consists of randomly \"dropping out\" (i.e. setting to zero) a number of output features of the layer during training. Let's say a given layer would normally have returned a vector [0.2, 0.5, 1.3, 0.8, 1.1] for a given input sample during training; after applying dropout, this vector will have a few zero entries distributed at random, e.g. [0, 0.5, 1.3, 0, 1.1]. The \"dropout rate\" is the fraction of the features that are being zeroed-out; it is usually set between 0.2 and 0.5. At test time, no units are dropped out, and instead the layer's output values are scaled down by a factor equal to the dropout rate, so as to balance for the fact that more units are active than at training time.\n",
    "\n",
    "Consider a Numpy matrix containing the output of a layer, layer_output, of shape (batch_size, features). At training time, we would be zero-ing out at random a fraction of the values in the matrix."
   ]
  },
  {
   "cell_type": "markdown",
   "metadata": {},
   "source": [
    "````\n",
    "# At training time: we drop out 50% of the units in the output\n",
    "#layer_output *= np.randint(0, high=2, size=layer_output.shape)\n",
    "\n",
    "batch_size = 512\n",
    "features = 10\n",
    "\n",
    "layer_output = np.array([batch_size, features])\n",
    "layer_output = np.random.randint(0, high=2, size=layer_output.shape)\n",
    "````"
   ]
  },
  {
   "cell_type": "markdown",
   "metadata": {},
   "source": [
    "At test time, we would be scaling the output down by the dropout rate. Here we scale by 0.5 (because we were previous dropping half the units):"
   ]
  },
  {
   "cell_type": "markdown",
   "metadata": {},
   "source": [
    "````\n",
    "# At test time:\n",
    "layer_output = layer_output*0.5\n",
    "````"
   ]
  },
  {
   "cell_type": "markdown",
   "metadata": {},
   "source": [
    "Note that this process can be implemented by doing both operations at training time and leaving the output unchanged at test time, which is often the way it is implemented in practice:"
   ]
  },
  {
   "cell_type": "markdown",
   "metadata": {},
   "source": [
    "````\n",
    "# At training time:\n",
    "layer_output *= np.random.randint(0, high=2, size=layer_output.shape)\n",
    "\n",
    "# Note that we are scaling *up* rather scaling *down* in this case\n",
    "layer_output /= 0.5\n",
    "````"
   ]
  },
  {
   "cell_type": "markdown",
   "metadata": {},
   "source": [
    "The core idea is that introducing noise in the output values of a layer can break up happenstance patterns that are not significant (what Hinton refers to as \"conspiracies\"), which the network would start memorizing if no noise was present."
   ]
  },
  {
   "cell_type": "markdown",
   "metadata": {},
   "source": [
    "Let's add two [Dropout layers](https://keras.io/api/layers/regularization_layers/dropout/) in our IMDB network to see how well they do at reducing overfitting:"
   ]
  },
  {
   "cell_type": "markdown",
   "metadata": {},
   "source": [
    "**Add Dropout to the original network. Where should you add the `Dropout` layers? Check Keras documentation and try to understand. Try out different value for the dropout rate.**"
   ]
  },
  {
   "cell_type": "code",
   "execution_count": 17,
   "metadata": {},
   "outputs": [],
   "source": [
    "dpt_model = models.Sequential()\n",
    "dpt_model.add(layers.Dense(16, activation='relu', input_shape=(10000,)))\n",
    "dpt_model.add(layers.Dropout(0.5))\n",
    "dpt_model.add(layers.Dense(16, activation='relu'))\n",
    "dpt_model.add(layers.Dropout(0.5))\n",
    "dpt_model.add(layers.Dense(1, activation='sigmoid'))"
   ]
  },
  {
   "cell_type": "markdown",
   "metadata": {},
   "source": [
    "**Compile the model.**"
   ]
  },
  {
   "cell_type": "code",
   "execution_count": 18,
   "metadata": {},
   "outputs": [],
   "source": [
    "dpt_model.compile(optimizer='rmsprop',\n",
    "                  loss='binary_crossentropy',\n",
    "                  metrics=['acc'])"
   ]
  },
  {
   "cell_type": "markdown",
   "metadata": {},
   "source": [
    "**Fit the model.**"
   ]
  },
  {
   "cell_type": "code",
   "execution_count": 19,
   "metadata": {},
   "outputs": [
    {
     "name": "stdout",
     "output_type": "stream",
     "text": [
      "Epoch 1/20\n",
      "WARNING:tensorflow:AutoGraph could not transform <function Model.make_train_function.<locals>.train_function at 0x14c6744d0> and will run it as-is.\n",
      "Please report this to the TensorFlow team. When filing the bug, set the verbosity to 10 (on Linux, `export AUTOGRAPH_VERBOSITY=10`) and attach the full output.\n",
      "Cause: 'arguments' object has no attribute 'posonlyargs'\n",
      "To silence this warning, decorate the function with @tf.autograph.experimental.do_not_convert\n",
      "WARNING: AutoGraph could not transform <function Model.make_train_function.<locals>.train_function at 0x14c6744d0> and will run it as-is.\n",
      "Please report this to the TensorFlow team. When filing the bug, set the verbosity to 10 (on Linux, `export AUTOGRAPH_VERBOSITY=10`) and attach the full output.\n",
      "Cause: 'arguments' object has no attribute 'posonlyargs'\n",
      "To silence this warning, decorate the function with @tf.autograph.experimental.do_not_convert\n",
      "46/49 [===========================>..] - ETA: 0s - loss: 0.5990 - acc: 0.6731WARNING:tensorflow:AutoGraph could not transform <function Model.make_test_function.<locals>.test_function at 0x14d3a37a0> and will run it as-is.\n",
      "Please report this to the TensorFlow team. When filing the bug, set the verbosity to 10 (on Linux, `export AUTOGRAPH_VERBOSITY=10`) and attach the full output.\n",
      "Cause: 'arguments' object has no attribute 'posonlyargs'\n",
      "To silence this warning, decorate the function with @tf.autograph.experimental.do_not_convert\n",
      "WARNING: AutoGraph could not transform <function Model.make_test_function.<locals>.test_function at 0x14d3a37a0> and will run it as-is.\n",
      "Please report this to the TensorFlow team. When filing the bug, set the verbosity to 10 (on Linux, `export AUTOGRAPH_VERBOSITY=10`) and attach the full output.\n",
      "Cause: 'arguments' object has no attribute 'posonlyargs'\n",
      "To silence this warning, decorate the function with @tf.autograph.experimental.do_not_convert\n",
      "49/49 [==============================] - 7s 129ms/step - loss: 0.5934 - acc: 0.6794 - val_loss: 0.4296 - val_acc: 0.8652\n",
      "Epoch 2/20\n",
      "49/49 [==============================] - 2s 33ms/step - loss: 0.4330 - acc: 0.8166 - val_loss: 0.3204 - val_acc: 0.8846\n",
      "Epoch 3/20\n",
      "49/49 [==============================] - 2s 31ms/step - loss: 0.3459 - acc: 0.8656 - val_loss: 0.2867 - val_acc: 0.8864\n",
      "Epoch 4/20\n",
      "49/49 [==============================] - 1s 26ms/step - loss: 0.2905 - acc: 0.8919 - val_loss: 0.2785 - val_acc: 0.8872\n",
      "Epoch 5/20\n",
      "49/49 [==============================] - 1s 27ms/step - loss: 0.2577 - acc: 0.9094 - val_loss: 0.2835 - val_acc: 0.8867\n",
      "Epoch 6/20\n",
      "49/49 [==============================] - 1s 28ms/step - loss: 0.2311 - acc: 0.9193 - val_loss: 0.2941 - val_acc: 0.8868\n",
      "Epoch 7/20\n",
      "49/49 [==============================] - 1s 27ms/step - loss: 0.2075 - acc: 0.9278 - val_loss: 0.3166 - val_acc: 0.8800\n",
      "Epoch 8/20\n",
      "49/49 [==============================] - 1s 30ms/step - loss: 0.1891 - acc: 0.9348 - val_loss: 0.3195 - val_acc: 0.8846\n",
      "Epoch 9/20\n",
      "49/49 [==============================] - 1s 28ms/step - loss: 0.1701 - acc: 0.9404 - val_loss: 0.3527 - val_acc: 0.8846\n",
      "Epoch 10/20\n",
      "49/49 [==============================] - 1s 27ms/step - loss: 0.1617 - acc: 0.9420 - val_loss: 0.3749 - val_acc: 0.8823\n",
      "Epoch 11/20\n",
      "49/49 [==============================] - 1s 25ms/step - loss: 0.1534 - acc: 0.9471 - val_loss: 0.3882 - val_acc: 0.8805\n",
      "Epoch 12/20\n",
      "49/49 [==============================] - 1s 25ms/step - loss: 0.1433 - acc: 0.9477 - val_loss: 0.4189 - val_acc: 0.8781\n",
      "Epoch 13/20\n",
      "49/49 [==============================] - 1s 24ms/step - loss: 0.1351 - acc: 0.9510 - val_loss: 0.4559 - val_acc: 0.8778\n",
      "Epoch 14/20\n",
      "49/49 [==============================] - 1s 25ms/step - loss: 0.1249 - acc: 0.9523 - val_loss: 0.4865 - val_acc: 0.8788\n",
      "Epoch 15/20\n",
      "49/49 [==============================] - 2s 31ms/step - loss: 0.1293 - acc: 0.9513 - val_loss: 0.4735 - val_acc: 0.8766\n",
      "Epoch 16/20\n",
      "49/49 [==============================] - 1s 26ms/step - loss: 0.1204 - acc: 0.9542 - val_loss: 0.5164 - val_acc: 0.8756\n",
      "Epoch 17/20\n",
      "49/49 [==============================] - 1s 27ms/step - loss: 0.1189 - acc: 0.9528 - val_loss: 0.5348 - val_acc: 0.8719\n",
      "Epoch 18/20\n",
      "49/49 [==============================] - 1s 25ms/step - loss: 0.1157 - acc: 0.9544 - val_loss: 0.5681 - val_acc: 0.8694\n",
      "Epoch 19/20\n",
      "49/49 [==============================] - 1s 25ms/step - loss: 0.1192 - acc: 0.9565 - val_loss: 0.5454 - val_acc: 0.8757\n",
      "Epoch 20/20\n",
      "49/49 [==============================] - 1s 24ms/step - loss: 0.1164 - acc: 0.9548 - val_loss: 0.5684 - val_acc: 0.8752\n"
     ]
    }
   ],
   "source": [
    "dpt_model_hist = dpt_model.fit(x_train, y_train,\n",
    "                               epochs=20,\n",
    "                               batch_size=512,\n",
    "                               validation_data=(x_test,y_test))"
   ]
  },
  {
   "cell_type": "markdown",
   "metadata": {},
   "source": [
    "**Fill in the #TO DOs to plot the results.**"
   ]
  },
  {
   "cell_type": "code",
   "execution_count": 20,
   "metadata": {},
   "outputs": [
    {
     "data": {
      "image/png": "[encoded data removed]",
      "text/plain": [
       "<Figure size 432x288 with 1 Axes>"
      ]
     },
     "metadata": {
      "needs_background": "light"
     },
     "output_type": "display_data"
    }
   ],
   "source": [
    "dpt_model_val_loss = dpt_model_hist.history['val_loss'] #TO DO: take from the history dictionary of the model with dropout the validation loss\n",
    "\n",
    "plt.plot(epochs, original_val_loss, 'b+', label='Original model') #TO DO: use the validation loss of the original model\n",
    "plt.plot(epochs, dpt_model_val_loss, 'bo', label='Dropout-regularized model') #TO DO: use the validation loss of the model with dropout\n",
    "plt.xlabel('Epochs')\n",
    "plt.ylabel('Validation loss')\n",
    "plt.legend()\n",
    "\n",
    "plt.show()"
   ]
  },
  {
   "cell_type": "markdown",
   "metadata": {},
   "source": [
    "**Considerations: were you able to improve?**"
   ]
  },
  {
   "cell_type": "markdown",
   "metadata": {},
   "source": [
    "Again, a clear improvement over the reference network.\n",
    "\n",
    "**To recap**: \n",
    "Here the most common ways to prevent overfitting in neural networks:\n",
    "\n",
    "- Getting more training data/ Data augmentation\n",
    "- Reducing the capacity of the network\n",
    "- Adding weight regularization\n",
    "- Adding dropout\n",
    "- Early stopping"
   ]
  },
  {
   "cell_type": "code",
   "execution_count": null,
   "metadata": {},
   "outputs": [],
   "source": []
  }
 ],
 "metadata": {
  "kernelspec": {
   "display_name": "Python 3 (ipykernel)",
   "language": "python",
   "name": "python3"
  },
  "language_info": {
   "codemirror_mode": {
    "name": "ipython",
    "version": 3
   },
   "file_extension": ".py",
   "mimetype": "text/x-python",
   "name": "python",
   "nbconvert_exporter": "python",
   "pygments_lexer": "ipython3",
   "version": "3.9.7"
  }
 },
 "nbformat": 4,
 "nbformat_minor": 2
}
